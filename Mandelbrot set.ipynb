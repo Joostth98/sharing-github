{
 "cells": [
  {
   "cell_type": "code",
   "execution_count": 17,
   "metadata": {},
   "outputs": [],
   "source": [
    "import numpy as np\n",
    "from matplotlib import pyplot as plt\n",
    "import pandas as pd\n",
    "%matplotlib qt\n",
    "\n",
    "def mandelbrot_converion(n,julia = False , j = -0.4+0.6j):\n",
    "\n",
    "    iterations = np.arange(n)\n",
    "\n",
    "    xrange = 2000\n",
    "    yrange = 1000\n",
    "\n",
    "    z_0 = np.zeros((yrange,xrange))\n",
    "    \n",
    "    \n",
    "    c = np.zeros((yrange,xrange), dtype = complex)\n",
    "\n",
    "    real = np.linspace(-2,0.5,xrange)\n",
    "    im = np.linspace(-1,1,yrange)\n",
    "\n",
    "\n",
    "    for index_y,value_y in enumerate(im):\n",
    "        for index_x,value_x in enumerate(real):\n",
    "            c[index_y,index_x] = value_x + (value_y*1j)\n",
    "\n",
    "\n",
    "    dummy = list(np.arange(n+1))\n",
    "    dummy[0] = z_0\n",
    "    \n",
    "    \n",
    "    if julia == False:  \n",
    "        for index,value in enumerate(iterations):\n",
    "            dummy[index+1] = dummy[index][:][:]**2 + c\n",
    "    elif julia == True:\n",
    "        for index,value in enumerate(iterations):\n",
    "            dummy[index+1] = dummy[index][:][:]**2 + j\n",
    "\n",
    "        \n",
    "    print('Done')\n",
    "    return (dummy[-1] < 1)\n",
    "\n",
    "\n",
    "\n",
    "\n",
    "\n",
    "\n",
    "\n"
   ]
  },
  {
   "cell_type": "code",
   "execution_count": null,
   "metadata": {},
   "outputs": [],
   "source": []
  },
  {
   "cell_type": "code",
   "execution_count": 20,
   "metadata": {},
   "outputs": [
    {
     "name": "stderr",
     "output_type": "stream",
     "text": [
      "D:\\Anaconda\\lib\\site-packages\\ipykernel_launcher.py:33: RuntimeWarning: overflow encountered in square\n",
      "D:\\Anaconda\\lib\\site-packages\\ipykernel_launcher.py:33: RuntimeWarning: invalid value encountered in square\n"
     ]
    },
    {
     "name": "stdout",
     "output_type": "stream",
     "text": [
      "Done\n"
     ]
    },
    {
     "name": "stderr",
     "output_type": "stream",
     "text": [
      "D:\\Anaconda\\lib\\site-packages\\ipykernel_launcher.py:40: RuntimeWarning: invalid value encountered in less\n"
     ]
    }
   ],
   "source": [
    "image = mandelbrot_converion(100)"
   ]
  },
  {
   "cell_type": "code",
   "execution_count": 21,
   "metadata": {},
   "outputs": [
    {
     "data": {
      "text/plain": [
       "<matplotlib.image.AxesImage at 0x26d007c0c50>"
      ]
     },
     "execution_count": 21,
     "metadata": {},
     "output_type": "execute_result"
    }
   ],
   "source": [
    "plt.imshow(image)"
   ]
  }
 ],
 "metadata": {
  "kernelspec": {
   "display_name": "Python 3",
   "language": "python",
   "name": "python3"
  },
  "language_info": {
   "codemirror_mode": {
    "name": "ipython",
    "version": 3
   },
   "file_extension": ".py",
   "mimetype": "text/x-python",
   "name": "python",
   "nbconvert_exporter": "python",
   "pygments_lexer": "ipython3",
   "version": "3.6.5"
  },
  "latex_envs": {
   "LaTeX_envs_menu_present": true,
   "autoclose": false,
   "autocomplete": true,
   "bibliofile": "biblio.bib",
   "cite_by": "apalike",
   "current_citInitial": 1,
   "eqLabelWithNumbers": true,
   "eqNumInitial": 1,
   "hotkeys": {
    "equation": "Ctrl-E",
    "itemize": "Ctrl-I"
   },
   "labels_anchors": false,
   "latex_user_defs": false,
   "report_style_numbering": false,
   "user_envs_cfg": false
  }
 },
 "nbformat": 4,
 "nbformat_minor": 4
}
